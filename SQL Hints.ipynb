{
 "cells": [
  {
   "cell_type": "code",
   "execution_count": 1,
   "id": "3936c86a",
   "metadata": {},
   "outputs": [],
   "source": [
    "import findspark\n",
    "findspark.init()"
   ]
  },
  {
   "cell_type": "code",
   "execution_count": 2,
   "id": "50846623",
   "metadata": {},
   "outputs": [],
   "source": [
    "from pyspark.sql import *\n",
    "from pyspark.sql.functions import *"
   ]
  },
  {
   "cell_type": "code",
   "execution_count": 3,
   "id": "459615c8",
   "metadata": {},
   "outputs": [],
   "source": [
    "from pyspark.sql import SparkSession"
   ]
  },
  {
   "cell_type": "code",
   "execution_count": 4,
   "id": "945686d8",
   "metadata": {},
   "outputs": [],
   "source": [
    "spark = SparkSession.builder.getOrCreate()"
   ]
  },
  {
   "cell_type": "code",
   "execution_count": 5,
   "id": "c354b7ee",
   "metadata": {},
   "outputs": [
    {
     "data": {
      "text/html": [
       "\n",
       "            <div>\n",
       "                <p><b>SparkSession - in-memory</b></p>\n",
       "                \n",
       "        <div>\n",
       "            <p><b>SparkContext</b></p>\n",
       "\n",
       "            <p><a href=\"http://host.docker.internal:4040\">Spark UI</a></p>\n",
       "\n",
       "            <dl>\n",
       "              <dt>Version</dt>\n",
       "                <dd><code>v3.2.1</code></dd>\n",
       "              <dt>Master</dt>\n",
       "                <dd><code>local[*]</code></dd>\n",
       "              <dt>AppName</dt>\n",
       "                <dd><code>pyspark-shell</code></dd>\n",
       "            </dl>\n",
       "        </div>\n",
       "        \n",
       "            </div>\n",
       "        "
      ],
      "text/plain": [
       "<pyspark.sql.session.SparkSession at 0x283b2d6b520>"
      ]
     },
     "execution_count": 5,
     "metadata": {},
     "output_type": "execute_result"
    }
   ],
   "source": [
    "spark"
   ]
  },
  {
   "cell_type": "code",
   "execution_count": 6,
   "id": "cd0fa12e",
   "metadata": {},
   "outputs": [],
   "source": [
    "# Big Dataframe\n",
    "df_transactions = spark.createDataFrame([\n",
    "    (1, \"US\", 100),\n",
    "    (2, \"IN\", 200),\n",
    "    (3, \"UK\", 150),\n",
    "    (4, \"US\", 80)\n",
    "], [\"id\", \"country_code\",\"account\"])\n",
    "\n",
    "# Small Datafrae\n",
    "df_countries = spark.createDataFrame([\n",
    "    (\"US\", \"United States\"),\n",
    "    (\"IN\", \"India\"),\n",
    "    (\"UK\", \"United Kingdom\")\n",
    "], [\"country_code\", \"country_name\"])"
   ]
  },
  {
   "cell_type": "code",
   "execution_count": 7,
   "id": "eeadc385",
   "metadata": {},
   "outputs": [],
   "source": [
    "df_transactions.createOrReplaceTempView('transactions')\n",
    "df_countries.createOrReplaceTempView('countries')"
   ]
  },
  {
   "cell_type": "code",
   "execution_count": null,
   "id": "67101b99",
   "metadata": {},
   "outputs": [],
   "source": [
    "spark.sql(\n",
    "    'SELECT * FROM transactions t \\\n",
    "        JOIN countries c \\\n",
    "            on t.country_code = c.country_code'\n",
    ").show()"
   ]
  },
  {
   "cell_type": "code",
   "execution_count": null,
   "id": "3562157f",
   "metadata": {},
   "outputs": [
    {
     "name": "stdout",
     "output_type": "stream",
     "text": [
      "+---+------------+-------+------------+--------------+\n",
      "| id|country_code|account|country_code|  country_name|\n",
      "+---+------------+-------+------------+--------------+\n",
      "|  2|          IN|    200|          IN|         India|\n",
      "|  3|          UK|    150|          UK|United Kingdom|\n",
      "|  1|          US|    100|          US| United States|\n",
      "|  4|          US|     80|          US| United States|\n",
      "+---+------------+-------+------------+--------------+\n",
      "\n"
     ]
    }
   ],
   "source": [
    "spark.sql(\n",
    "    'SELECT * /* broadcast(c) */ FROM transactions t \\\n",
    "        JOIN countries c \\\n",
    "            on t.country_code = c.country_code' \n",
    ").show()"
   ]
  }
 ],
 "metadata": {
  "kernelspec": {
   "display_name": "Python 3",
   "language": "python",
   "name": "python3"
  },
  "language_info": {
   "codemirror_mode": {
    "name": "ipython",
    "version": 3
   },
   "file_extension": ".py",
   "mimetype": "text/x-python",
   "name": "python",
   "nbconvert_exporter": "python",
   "pygments_lexer": "ipython3",
   "version": "3.9.0"
  }
 },
 "nbformat": 4,
 "nbformat_minor": 5
}
