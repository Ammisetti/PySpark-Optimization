{
 "cells": [
  {
   "cell_type": "code",
   "execution_count": 1,
   "id": "f8b4e52b",
   "metadata": {},
   "outputs": [],
   "source": [
    "import findspark\n",
    "findspark.init()"
   ]
  },
  {
   "cell_type": "code",
   "execution_count": 2,
   "id": "a7d86a90",
   "metadata": {},
   "outputs": [],
   "source": [
    "from pyspark.sql import SparkSession"
   ]
  },
  {
   "cell_type": "code",
   "execution_count": 3,
   "id": "d9772193",
   "metadata": {},
   "outputs": [],
   "source": [
    "spark = SparkSession.builder.getOrCreate()"
   ]
  },
  {
   "cell_type": "code",
   "execution_count": 4,
   "id": "5740985c",
   "metadata": {},
   "outputs": [
    {
     "data": {
      "text/html": [
       "\n",
       "            <div>\n",
       "                <p><b>SparkSession - in-memory</b></p>\n",
       "                \n",
       "        <div>\n",
       "            <p><b>SparkContext</b></p>\n",
       "\n",
       "            <p><a href=\"http://host.docker.internal:4040\">Spark UI</a></p>\n",
       "\n",
       "            <dl>\n",
       "              <dt>Version</dt>\n",
       "                <dd><code>v3.2.1</code></dd>\n",
       "              <dt>Master</dt>\n",
       "                <dd><code>local[*]</code></dd>\n",
       "              <dt>AppName</dt>\n",
       "                <dd><code>pyspark-shell</code></dd>\n",
       "            </dl>\n",
       "        </div>\n",
       "        \n",
       "            </div>\n",
       "        "
      ],
      "text/plain": [
       "<pyspark.sql.session.SparkSession at 0x1bbfef45a90>"
      ]
     },
     "execution_count": 4,
     "metadata": {},
     "output_type": "execute_result"
    }
   ],
   "source": [
    "spark"
   ]
  },
  {
   "cell_type": "code",
   "execution_count": 5,
   "id": "d7a6d59b",
   "metadata": {},
   "outputs": [],
   "source": [
    "spark.conf.set(\"spark.sql.adaptive.enabled\", \"false\")"
   ]
  },
  {
   "cell_type": "code",
   "execution_count": 6,
   "id": "2aa766bd",
   "metadata": {},
   "outputs": [
    {
     "data": {
      "text/plain": [
       "'false'"
      ]
     },
     "execution_count": 6,
     "metadata": {},
     "output_type": "execute_result"
    }
   ],
   "source": [
    "spark.conf.get(\"spark.sql.adaptive.enabled\")"
   ]
  },
  {
   "cell_type": "code",
   "execution_count": 7,
   "id": "78e8d112",
   "metadata": {},
   "outputs": [],
   "source": [
    "# Big Dataframe\n",
    "df_transactions = spark.createDataFrame([\n",
    "    (1, \"US\", 100),\n",
    "    (2, \"IN\", 200),\n",
    "    (3, \"UK\", 150),\n",
    "    (4, \"US\", 80)\n",
    "], [\"id\", \"country_code\",\"account\"])\n",
    "\n",
    "# Small Datafrae\n",
    "df_countries = spark.createDataFrame([\n",
    "    (\"US\", \"United States\"),\n",
    "    (\"IN\", \"India\"),\n",
    "    (\"UK\", \"United Kingdom\")\n",
    "], [\"country_code\", \"country_name\"])"
   ]
  },
  {
   "cell_type": "code",
   "execution_count": 8,
   "id": "654a91c6",
   "metadata": {},
   "outputs": [
    {
     "name": "stdout",
     "output_type": "stream",
     "text": [
      "+---+------------+-------+\n",
      "| id|country_code|account|\n",
      "+---+------------+-------+\n",
      "|  1|          US|    100|\n",
      "|  2|          IN|    200|\n",
      "|  3|          UK|    150|\n",
      "|  4|          US|     80|\n",
      "+---+------------+-------+\n",
      "\n"
     ]
    }
   ],
   "source": [
    "df_transactions.show()"
   ]
  },
  {
   "cell_type": "code",
   "execution_count": 9,
   "id": "c4ac2e20",
   "metadata": {},
   "outputs": [
    {
     "name": "stdout",
     "output_type": "stream",
     "text": [
      "+------------+--------------+\n",
      "|country_code|  country_name|\n",
      "+------------+--------------+\n",
      "|          US| United States|\n",
      "|          IN|         India|\n",
      "|          UK|United Kingdom|\n",
      "+------------+--------------+\n",
      "\n"
     ]
    }
   ],
   "source": [
    "df_countries.show()"
   ]
  },
  {
   "cell_type": "code",
   "execution_count": 10,
   "id": "c58099a9",
   "metadata": {},
   "outputs": [],
   "source": [
    "df_join = df_transactions.join(df_countries, df_transactions['country_code'] == df_countries['country_code'], \"inner\")"
   ]
  },
  {
   "cell_type": "code",
   "execution_count": 11,
   "id": "04b8ef3e",
   "metadata": {},
   "outputs": [
    {
     "name": "stdout",
     "output_type": "stream",
     "text": [
      "+---+------------+-------+------------+--------------+\n",
      "| id|country_code|account|country_code|  country_name|\n",
      "+---+------------+-------+------------+--------------+\n",
      "|  1|          US|    100|          US| United States|\n",
      "|  4|          US|     80|          US| United States|\n",
      "|  2|          IN|    200|          IN|         India|\n",
      "|  3|          UK|    150|          UK|United Kingdom|\n",
      "+---+------------+-------+------------+--------------+\n",
      "\n"
     ]
    }
   ],
   "source": [
    "df_join.show()"
   ]
  },
  {
   "cell_type": "code",
   "execution_count": 12,
   "id": "24144c1e",
   "metadata": {},
   "outputs": [],
   "source": [
    "from pyspark.sql.functions import *"
   ]
  },
  {
   "cell_type": "code",
   "execution_count": 15,
   "id": "11946330",
   "metadata": {},
   "outputs": [],
   "source": [
    "df_join = df_transactions.join(broadcast(df_countries), df_transactions['country_code'] == df_countries['country_code'], \"inner\")"
   ]
  },
  {
   "cell_type": "code",
   "execution_count": 16,
   "id": "fc92ab54",
   "metadata": {},
   "outputs": [
    {
     "name": "stdout",
     "output_type": "stream",
     "text": [
      "+---+------------+-------+------------+--------------+\n",
      "| id|country_code|account|country_code|  country_name|\n",
      "+---+------------+-------+------------+--------------+\n",
      "|  1|          US|    100|          US| United States|\n",
      "|  2|          IN|    200|          IN|         India|\n",
      "|  3|          UK|    150|          UK|United Kingdom|\n",
      "|  4|          US|     80|          US| United States|\n",
      "+---+------------+-------+------------+--------------+\n",
      "\n"
     ]
    }
   ],
   "source": [
    "df_join.show()"
   ]
  }
 ],
 "metadata": {
  "kernelspec": {
   "display_name": "Python 3",
   "language": "python",
   "name": "python3"
  },
  "language_info": {
   "codemirror_mode": {
    "name": "ipython",
    "version": 3
   },
   "file_extension": ".py",
   "mimetype": "text/x-python",
   "name": "python",
   "nbconvert_exporter": "python",
   "pygments_lexer": "ipython3",
   "version": "3.9.0"
  }
 },
 "nbformat": 4,
 "nbformat_minor": 5
}
