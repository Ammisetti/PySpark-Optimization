{
 "cells": [
  {
   "cell_type": "code",
   "execution_count": 1,
   "id": "94e63e62",
   "metadata": {},
   "outputs": [],
   "source": [
    "import findspark\n",
    "findspark.init()"
   ]
  },
  {
   "cell_type": "code",
   "execution_count": 2,
   "id": "a3b3e868",
   "metadata": {},
   "outputs": [],
   "source": [
    "from pyspark.sql import SparkSession"
   ]
  },
  {
   "cell_type": "code",
   "execution_count": 3,
   "id": "69d3f1d5",
   "metadata": {},
   "outputs": [],
   "source": [
    "spark = SparkSession.builder.getOrCreate()"
   ]
  },
  {
   "cell_type": "code",
   "execution_count": 4,
   "id": "45c64b59",
   "metadata": {},
   "outputs": [
    {
     "data": {
      "text/html": [
       "\n",
       "            <div>\n",
       "                <p><b>SparkSession - in-memory</b></p>\n",
       "                \n",
       "        <div>\n",
       "            <p><b>SparkContext</b></p>\n",
       "\n",
       "            <p><a href=\"http://host.docker.internal:4040\">Spark UI</a></p>\n",
       "\n",
       "            <dl>\n",
       "              <dt>Version</dt>\n",
       "                <dd><code>v3.2.1</code></dd>\n",
       "              <dt>Master</dt>\n",
       "                <dd><code>local[*]</code></dd>\n",
       "              <dt>AppName</dt>\n",
       "                <dd><code>pyspark-shell</code></dd>\n",
       "            </dl>\n",
       "        </div>\n",
       "        \n",
       "            </div>\n",
       "        "
      ],
      "text/plain": [
       "<pyspark.sql.session.SparkSession at 0x1b0d6252220>"
      ]
     },
     "execution_count": 4,
     "metadata": {},
     "output_type": "execute_result"
    }
   ],
   "source": [
    "spark"
   ]
  },
  {
   "cell_type": "code",
   "execution_count": 6,
   "id": "24ac22a2",
   "metadata": {},
   "outputs": [],
   "source": [
    "# Dataframe\n",
    "df = spark.createDataFrame([\n",
    "    (\"1001\",),\n",
    "    (\"1002\",),\n",
    "    (\"1004\",),\n",
    "], [\"product_id\"])\n",
    "\n",
    "# Lookup dictionary (small)\n",
    "product_dic = {\n",
    "    \"1001\": \"iPhone\",\n",
    "    \"1002\": \"Samsung\",\n",
    "    \"1003\": \"Pixel\"\n",
    "}"
   ]
  },
  {
   "cell_type": "code",
   "execution_count": 7,
   "id": "d1cd6893",
   "metadata": {},
   "outputs": [
    {
     "name": "stdout",
     "output_type": "stream",
     "text": [
      "+----------+\n",
      "|product_id|\n",
      "+----------+\n",
      "|      1001|\n",
      "|      1002|\n",
      "|      1004|\n",
      "+----------+\n",
      "\n"
     ]
    }
   ],
   "source": [
    "df.show()"
   ]
  },
  {
   "cell_type": "code",
   "execution_count": 9,
   "id": "66d01ab8",
   "metadata": {},
   "outputs": [],
   "source": [
    "# Broadcasting the dictinary variable\n",
    "broad_vr = spark.sparkContext.broadcast(product_dic)"
   ]
  },
  {
   "cell_type": "code",
   "execution_count": 13,
   "id": "5631c68f",
   "metadata": {},
   "outputs": [
    {
     "data": {
      "text/plain": [
       "{'1001': 'iPhone', '1002': 'Samsung', '1003': 'Pixel'}"
      ]
     },
     "execution_count": 13,
     "metadata": {},
     "output_type": "execute_result"
    }
   ],
   "source": [
    "broad_vr.value"
   ]
  },
  {
   "cell_type": "code",
   "execution_count": 14,
   "id": "555eb9e7",
   "metadata": {},
   "outputs": [
    {
     "data": {
      "text/plain": [
       "'iPhone'"
      ]
     },
     "execution_count": 14,
     "metadata": {},
     "output_type": "execute_result"
    }
   ],
   "source": [
    "broad_vr.value.get('1001')"
   ]
  },
  {
   "cell_type": "code",
   "execution_count": 15,
   "id": "b9756acb",
   "metadata": {},
   "outputs": [],
   "source": [
    "# Our Function - User Defined\n",
    "\n",
    "def mymap(x):\n",
    "    return broad_vr.value.get(x)"
   ]
  },
  {
   "cell_type": "code",
   "execution_count": 17,
   "id": "d0c3f0ff",
   "metadata": {},
   "outputs": [],
   "source": [
    "from pyspark.sql.functions import *"
   ]
  },
  {
   "cell_type": "code",
   "execution_count": 18,
   "id": "cdf9d1d7",
   "metadata": {},
   "outputs": [],
   "source": [
    "mymap_udf = udf(mymap)"
   ]
  },
  {
   "cell_type": "code",
   "execution_count": 19,
   "id": "a35bdbaa",
   "metadata": {},
   "outputs": [],
   "source": [
    "df_with_name = df.withColumn(\"product_name\", mymap_udf(\"product_id\"))"
   ]
  },
  {
   "cell_type": "code",
   "execution_count": 20,
   "id": "636533c0",
   "metadata": {},
   "outputs": [
    {
     "name": "stdout",
     "output_type": "stream",
     "text": [
      "+----------+------------+\n",
      "|product_id|product_name|\n",
      "+----------+------------+\n",
      "|      1001|      iPhone|\n",
      "|      1002|     Samsung|\n",
      "|      1004|        null|\n",
      "+----------+------------+\n",
      "\n"
     ]
    }
   ],
   "source": [
    "df_with_name.show()"
   ]
  }
 ],
 "metadata": {
  "kernelspec": {
   "display_name": "Python 3",
   "language": "python",
   "name": "python3"
  },
  "language_info": {
   "codemirror_mode": {
    "name": "ipython",
    "version": 3
   },
   "file_extension": ".py",
   "mimetype": "text/x-python",
   "name": "python",
   "nbconvert_exporter": "python",
   "pygments_lexer": "ipython3",
   "version": "3.9.0"
  }
 },
 "nbformat": 4,
 "nbformat_minor": 5
}
