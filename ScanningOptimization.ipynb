{
 "cells": [
  {
   "cell_type": "code",
   "execution_count": 1,
   "id": "7c7af581",
   "metadata": {},
   "outputs": [],
   "source": [
    "import findspark\n",
    "findspark.init()"
   ]
  },
  {
   "cell_type": "code",
   "execution_count": 2,
   "id": "4719dfed",
   "metadata": {},
   "outputs": [],
   "source": [
    "from pyspark.sql import SparkSession"
   ]
  },
  {
   "cell_type": "code",
   "execution_count": 3,
   "id": "480f44c9",
   "metadata": {},
   "outputs": [
    {
     "data": {
      "text/html": [
       "\n",
       "            <div>\n",
       "                <p><b>SparkSession - in-memory</b></p>\n",
       "                \n",
       "        <div>\n",
       "            <p><b>SparkContext</b></p>\n",
       "\n",
       "            <p><a href=\"http://host.docker.internal:4041\">Spark UI</a></p>\n",
       "\n",
       "            <dl>\n",
       "              <dt>Version</dt>\n",
       "                <dd><code>v3.2.1</code></dd>\n",
       "              <dt>Master</dt>\n",
       "                <dd><code>local[*]</code></dd>\n",
       "              <dt>AppName</dt>\n",
       "                <dd><code>pyspark-shell</code></dd>\n",
       "            </dl>\n",
       "        </div>\n",
       "        \n",
       "            </div>\n",
       "        "
      ],
      "text/plain": [
       "<pyspark.sql.session.SparkSession at 0x239799c7af0>"
      ]
     },
     "execution_count": 3,
     "metadata": {},
     "output_type": "execute_result"
    }
   ],
   "source": [
    "spark = SparkSession.builder.getOrCreate()\n",
    "spark"
   ]
  },
  {
   "cell_type": "markdown",
   "id": "7f91f206",
   "metadata": {},
   "source": [
    "#### TURN OFF AQE"
   ]
  },
  {
   "cell_type": "code",
   "execution_count": 4,
   "id": "ae7f201e",
   "metadata": {},
   "outputs": [],
   "source": [
    "spark.conf.set(\"spark.sql.adaptive.enabled\", \"false\")"
   ]
  },
  {
   "cell_type": "code",
   "execution_count": 5,
   "id": "7eca4a32",
   "metadata": {},
   "outputs": [
    {
     "data": {
      "text/plain": [
       "'false'"
      ]
     },
     "execution_count": 5,
     "metadata": {},
     "output_type": "execute_result"
    }
   ],
   "source": [
    "# Checking AQE status\n",
    "spark.conf.get(\"spark.sql.adaptive.enabled\")"
   ]
  },
  {
   "cell_type": "code",
   "execution_count": 6,
   "id": "2df86fc6",
   "metadata": {},
   "outputs": [],
   "source": [
    "from pyspark.sql.functions import *"
   ]
  },
  {
   "cell_type": "markdown",
   "id": "5bc5634d",
   "metadata": {},
   "source": [
    "#### Data Reading"
   ]
  },
  {
   "cell_type": "code",
   "execution_count": 7,
   "id": "e09e8b80",
   "metadata": {},
   "outputs": [],
   "source": [
    "df = spark.read.format(\"csv\")\\\n",
    "        .option(\"inferSchema\", True)\\\n",
    "        .option(\"header\", True)\\\n",
    "        .load(\"BigMart Sales.csv\")"
   ]
  },
  {
   "cell_type": "code",
   "execution_count": 8,
   "id": "8e562c32",
   "metadata": {},
   "outputs": [
    {
     "name": "stdout",
     "output_type": "stream",
     "text": [
      "+---------------+-----------+----------------+---------------+--------------------+--------+-----------------+-------------------------+-----------+--------------------+-----------------+-----------------+\n",
      "|Item_Identifier|Item_Weight|Item_Fat_Content|Item_Visibility|           Item_Type|Item_MRP|Outlet_Identifier|Outlet_Establishment_Year|Outlet_Size|Outlet_Location_Type|      Outlet_Type|Item_Outlet_Sales|\n",
      "+---------------+-----------+----------------+---------------+--------------------+--------+-----------------+-------------------------+-----------+--------------------+-----------------+-----------------+\n",
      "|          FDA15|        9.3|         Low Fat|    0.016047301|               Dairy|249.8092|           OUT049|                     1999|     Medium|              Tier 1|Supermarket Type1|         3735.138|\n",
      "|          DRC01|       5.92|         Regular|    0.019278216|         Soft Drinks| 48.2692|           OUT018|                     2009|     Medium|              Tier 3|Supermarket Type2|         443.4228|\n",
      "|          FDN15|       17.5|         Low Fat|    0.016760075|                Meat| 141.618|           OUT049|                     1999|     Medium|              Tier 1|Supermarket Type1|          2097.27|\n",
      "|          FDX07|       19.2|         Regular|            0.0|Fruits and Vegeta...| 182.095|           OUT010|                     1998|       null|              Tier 3|    Grocery Store|           732.38|\n",
      "|          NCD19|       8.93|         Low Fat|            0.0|           Household| 53.8614|           OUT013|                     1987|       High|              Tier 3|Supermarket Type1|         994.7052|\n",
      "|          FDP36|     10.395|         Regular|            0.0|        Baking Goods| 51.4008|           OUT018|                     2009|     Medium|              Tier 3|Supermarket Type2|         556.6088|\n",
      "|          FDO10|      13.65|         Regular|    0.012741089|         Snack Foods| 57.6588|           OUT013|                     1987|       High|              Tier 3|Supermarket Type1|         343.5528|\n",
      "|          FDP10|       null|         Low Fat|    0.127469857|         Snack Foods|107.7622|           OUT027|                     1985|     Medium|              Tier 3|Supermarket Type3|        4022.7636|\n",
      "|          FDH17|       16.2|         Regular|    0.016687114|        Frozen Foods| 96.9726|           OUT045|                     2002|       null|              Tier 2|Supermarket Type1|        1076.5986|\n",
      "|          FDU28|       19.2|         Regular|     0.09444959|        Frozen Foods|187.8214|           OUT017|                     2007|       null|              Tier 2|Supermarket Type1|         4710.535|\n",
      "|          FDY07|       11.8|         Low Fat|            0.0|Fruits and Vegeta...| 45.5402|           OUT049|                     1999|     Medium|              Tier 1|Supermarket Type1|        1516.0266|\n",
      "|          FDA03|       18.5|         Regular|    0.045463773|               Dairy|144.1102|           OUT046|                     1997|      Small|              Tier 1|Supermarket Type1|         2187.153|\n",
      "|          FDX32|       15.1|         Regular|      0.1000135|Fruits and Vegeta...|145.4786|           OUT049|                     1999|     Medium|              Tier 1|Supermarket Type1|        1589.2646|\n",
      "|          FDS46|       17.6|         Regular|    0.047257328|         Snack Foods|119.6782|           OUT046|                     1997|      Small|              Tier 1|Supermarket Type1|        2145.2076|\n",
      "|          FDF32|      16.35|         Low Fat|      0.0680243|Fruits and Vegeta...|196.4426|           OUT013|                     1987|       High|              Tier 3|Supermarket Type1|         1977.426|\n",
      "|          FDP49|        9.0|         Regular|    0.069088961|           Breakfast| 56.3614|           OUT046|                     1997|      Small|              Tier 1|Supermarket Type1|        1547.3192|\n",
      "|          NCB42|       11.8|         Low Fat|    0.008596051|  Health and Hygiene|115.3492|           OUT018|                     2009|     Medium|              Tier 3|Supermarket Type2|        1621.8888|\n",
      "|          FDP49|        9.0|         Regular|    0.069196376|           Breakfast| 54.3614|           OUT049|                     1999|     Medium|              Tier 1|Supermarket Type1|         718.3982|\n",
      "|          DRI11|       null|         Low Fat|    0.034237682|         Hard Drinks|113.2834|           OUT027|                     1985|     Medium|              Tier 3|Supermarket Type3|         2303.668|\n",
      "|          FDU02|      13.35|         Low Fat|     0.10249212|               Dairy|230.5352|           OUT035|                     2004|      Small|              Tier 2|Supermarket Type1|        2748.4224|\n",
      "+---------------+-----------+----------------+---------------+--------------------+--------+-----------------+-------------------------+-----------+--------------------+-----------------+-----------------+\n",
      "only showing top 20 rows\n",
      "\n"
     ]
    }
   ],
   "source": [
    "df.show()"
   ]
  },
  {
   "cell_type": "code",
   "execution_count": 9,
   "id": "71038876",
   "metadata": {},
   "outputs": [
    {
     "data": {
      "text/plain": [
       "8523"
      ]
     },
     "execution_count": 9,
     "metadata": {},
     "output_type": "execute_result"
    }
   ],
   "source": [
    "df.count()"
   ]
  },
  {
   "cell_type": "code",
   "execution_count": 10,
   "id": "232df6fa",
   "metadata": {},
   "outputs": [
    {
     "data": {
      "text/plain": [
       "1"
      ]
     },
     "execution_count": 10,
     "metadata": {},
     "output_type": "execute_result"
    }
   ],
   "source": [
    "df.rdd.getNumPartitions()"
   ]
  },
  {
   "cell_type": "markdown",
   "id": "52709797",
   "metadata": {},
   "source": [
    "#### Changing DEFAULT Partition Size from 128mb to 128kb"
   ]
  },
  {
   "cell_type": "code",
   "execution_count": 11,
   "id": "d7f6f9db",
   "metadata": {},
   "outputs": [],
   "source": [
    "# Changind the default partition size to 128kb\n",
    "spark.conf.set(\"spark.sql.files.maxPartitionBytes\", 1000)"
   ]
  },
  {
   "cell_type": "code",
   "execution_count": 12,
   "id": "7713613b",
   "metadata": {},
   "outputs": [
    {
     "data": {
      "text/plain": [
       "'1000'"
      ]
     },
     "execution_count": 12,
     "metadata": {},
     "output_type": "execute_result"
    }
   ],
   "source": [
    "spark.conf.get(\"spark.sql.files.maxPartitionBytes\")"
   ]
  },
  {
   "cell_type": "code",
   "execution_count": 13,
   "id": "0ba57013",
   "metadata": {},
   "outputs": [
    {
     "data": {
      "text/plain": [
       "1"
      ]
     },
     "execution_count": 13,
     "metadata": {},
     "output_type": "execute_result"
    }
   ],
   "source": [
    "df.rdd.getNumPartitions()"
   ]
  },
  {
   "cell_type": "markdown",
   "id": "507ab8e8",
   "metadata": {},
   "source": [
    "#### Repartitioning"
   ]
  },
  {
   "cell_type": "code",
   "execution_count": 14,
   "id": "ee801c12",
   "metadata": {},
   "outputs": [],
   "source": [
    "df = df.repartition(10)"
   ]
  },
  {
   "cell_type": "code",
   "execution_count": 15,
   "id": "48492e23",
   "metadata": {},
   "outputs": [
    {
     "data": {
      "text/plain": [
       "10"
      ]
     },
     "execution_count": 15,
     "metadata": {},
     "output_type": "execute_result"
    }
   ],
   "source": [
    "df.rdd.getNumPartitions()"
   ]
  },
  {
   "cell_type": "markdown",
   "id": "7cb65950",
   "metadata": {},
   "source": [
    "#### Get Partition Info"
   ]
  },
  {
   "cell_type": "code",
   "execution_count": 16,
   "id": "8fccc498",
   "metadata": {},
   "outputs": [
    {
     "name": "stdout",
     "output_type": "stream",
     "text": [
      "+---------------+-----------+----------------+---------------+--------------------+--------+-----------------+-------------------------+-----------+--------------------+-----------------+-----------------+------------+\n",
      "|Item_Identifier|Item_Weight|Item_Fat_Content|Item_Visibility|           Item_Type|Item_MRP|Outlet_Identifier|Outlet_Establishment_Year|Outlet_Size|Outlet_Location_Type|      Outlet_Type|Item_Outlet_Sales|partition_id|\n",
      "+---------------+-----------+----------------+---------------+--------------------+--------+-----------------+-------------------------+-----------+--------------------+-----------------+-----------------+------------+\n",
      "|          FDY07|       11.8|         Low Fat|            0.0|Fruits and Vegeta...| 45.5402|           OUT049|                     1999|     Medium|              Tier 1|Supermarket Type1|        1516.0266|           0|\n",
      "|          NCB30|       14.6|         Low Fat|    0.025698134|           Household|196.5084|           OUT035|                     2004|      Small|              Tier 2|Supermarket Type1|        1587.2672|           0|\n",
      "|          FDP33|       18.7|         Low Fat|            0.0|         Snack Foods|256.6672|           OUT018|                     2009|     Medium|              Tier 3|Supermarket Type2|        3068.0064|           0|\n",
      "|          NCP05|       19.6|         Low Fat|            0.0|  Health and Hygiene|153.3024|           OUT045|                     2002|       null|              Tier 2|Supermarket Type1|        2428.8384|           0|\n",
      "|          NCP18|      12.15|         Low Fat|    0.028760013|           Household|151.4708|           OUT017|                     2007|       null|              Tier 2|Supermarket Type1|        4815.0656|           0|\n",
      "|          FDZ03|      13.65|         Regular|    0.078946455|               Dairy| 186.024|           OUT045|                     2002|       null|              Tier 2|Supermarket Type1|         1118.544|           0|\n",
      "|          NCZ18|      7.825|         low fat|    0.186357148|           Household|254.3698|           OUT049|                     1999|     Medium|              Tier 1|Supermarket Type1|        5580.7356|           0|\n",
      "|          NCL18|       null|         Low Fat|    0.293417759|           Household|194.6136|           OUT019|                     1985|      Small|              Tier 1|    Grocery Store|         583.2408|           0|\n",
      "|          NCR17|        9.8|         Low Fat|    0.024378706|  Health and Hygiene|114.5492|           OUT035|                     2004|      Small|              Tier 2|Supermarket Type1|        1274.3412|           0|\n",
      "|          FDT28|       13.3|         Low Fat|    0.063695084|        Frozen Foods|151.0708|           OUT045|                     2002|       null|              Tier 2|Supermarket Type1|        1805.6496|           0|\n",
      "|          FDZ16|      16.85|         Regular|    0.160760054|        Frozen Foods|192.4478|           OUT017|                     2007|       null|              Tier 2|Supermarket Type1|         4843.695|           0|\n",
      "|          FDZ46|      7.485|         Low Fat|     0.06911065|         Snack Foods|109.0228|           OUT035|                     2004|      Small|              Tier 2|Supermarket Type1|        2542.0244|           0|\n",
      "|          FDG02|      7.855|         Low Fat|    0.011307038|              Canned|188.5188|           OUT018|                     2009|     Medium|              Tier 3|Supermarket Type2|          952.094|           0|\n",
      "|          NCX54|      9.195|         Low Fat|    0.048331717|           Household|105.1622|           OUT017|                     2007|       null|              Tier 2|Supermarket Type1|        1693.7952|           0|\n",
      "|          DRJ25|       14.6|         Low Fat|    0.151419185|         Soft Drinks| 50.3692|           OUT017|                     2007|       null|              Tier 2|Supermarket Type1|        1034.6532|           0|\n",
      "|          DRF49|       7.27|         Low Fat|    0.071077939|         Soft Drinks|114.2518|           OUT046|                     1997|      Small|              Tier 1|Supermarket Type1|        2618.5914|           0|\n",
      "|          FDI32|       17.7|         Low Fat|    0.291865402|Fruits and Vegeta...|115.1834|           OUT010|                     1998|       null|              Tier 3|    Grocery Store|         345.5502|           0|\n",
      "|          FDB35|       12.3|         Regular|    0.064750025|       Starchy Foods| 92.6804|           OUT045|                     2002|       null|              Tier 2|Supermarket Type1|        1010.6844|           0|\n",
      "|          FDL58|       5.78|         Regular|    0.074264356|         Snack Foods|264.7568|           OUT049|                     1999|     Medium|              Tier 1|Supermarket Type1|        4745.8224|           0|\n",
      "|          NCM53|      18.75|         Low Fat|    0.052146456|  Health and Hygiene| 104.628|           OUT045|                     2002|       null|              Tier 2|Supermarket Type1|          745.696|           0|\n",
      "+---------------+-----------+----------------+---------------+--------------------+--------+-----------------+-------------------------+-----------+--------------------+-----------------+-----------------+------------+\n",
      "only showing top 20 rows\n",
      "\n"
     ]
    }
   ],
   "source": [
    "df.withColumn(\"partition_id\", spark_partition_id()).show()"
   ]
  },
  {
   "cell_type": "markdown",
   "id": "dfe5c73f",
   "metadata": {},
   "source": [
    "#### Data Writing"
   ]
  },
  {
   "cell_type": "code",
   "execution_count": 17,
   "id": "22ccf920",
   "metadata": {},
   "outputs": [],
   "source": [
    "df.write.format(\"parquet\")\\\n",
    "    .mode(\"overwrite\")\\\n",
    "    .save('parquetWrite')"
   ]
  },
  {
   "cell_type": "markdown",
   "id": "b8dd6414",
   "metadata": {},
   "source": [
    "#### Scanning Optimization"
   ]
  },
  {
   "cell_type": "code",
   "execution_count": 18,
   "id": "a8b165f9",
   "metadata": {},
   "outputs": [],
   "source": [
    "df.write.format(\"parquet\")\\\n",
    "        .mode(\"overwrite\")\\\n",
    "        .partitionBy(\"Outlet_Location_Type\")\\\n",
    "        .save(\"parquetWriteOptimization\")"
   ]
  },
  {
   "cell_type": "code",
   "execution_count": 19,
   "id": "1770e41c",
   "metadata": {},
   "outputs": [],
   "source": [
    "df_new = spark.read.format(\"parquet\")\\\n",
    "                    .load(\"parquetWriteOptimization\")\n",
    "\n",
    "df_new = df_new.filter(col(\"Outlet_Location_Type\") == 'Tier 1')"
   ]
  }
 ],
 "metadata": {
  "kernelspec": {
   "display_name": "Python 3",
   "language": "python",
   "name": "python3"
  },
  "language_info": {
   "codemirror_mode": {
    "name": "ipython",
    "version": 3
   },
   "file_extension": ".py",
   "mimetype": "text/x-python",
   "name": "python",
   "nbconvert_exporter": "python",
   "pygments_lexer": "ipython3",
   "version": "3.9.0"
  }
 },
 "nbformat": 4,
 "nbformat_minor": 5
}
