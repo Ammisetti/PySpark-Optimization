{
 "cells": [
  {
   "cell_type": "code",
   "execution_count": 1,
   "id": "6332e002",
   "metadata": {},
   "outputs": [],
   "source": [
    "import findspark\n",
    "findspark.init()"
   ]
  },
  {
   "cell_type": "code",
   "execution_count": 2,
   "id": "3f1a2610",
   "metadata": {},
   "outputs": [],
   "source": [
    "from pyspark.sql import SparkSession"
   ]
  },
  {
   "cell_type": "code",
   "execution_count": 3,
   "id": "e9eeadab",
   "metadata": {},
   "outputs": [],
   "source": [
    "spark = SparkSession.builder.getOrCreate()"
   ]
  },
  {
   "cell_type": "code",
   "execution_count": 4,
   "id": "3b24d47a",
   "metadata": {},
   "outputs": [
    {
     "data": {
      "text/html": [
       "\n",
       "            <div>\n",
       "                <p><b>SparkSession - in-memory</b></p>\n",
       "                \n",
       "        <div>\n",
       "            <p><b>SparkContext</b></p>\n",
       "\n",
       "            <p><a href=\"http://host.docker.internal:4040\">Spark UI</a></p>\n",
       "\n",
       "            <dl>\n",
       "              <dt>Version</dt>\n",
       "                <dd><code>v3.2.1</code></dd>\n",
       "              <dt>Master</dt>\n",
       "                <dd><code>local[*]</code></dd>\n",
       "              <dt>AppName</dt>\n",
       "                <dd><code>pyspark-shell</code></dd>\n",
       "            </dl>\n",
       "        </div>\n",
       "        \n",
       "            </div>\n",
       "        "
      ],
      "text/plain": [
       "<pyspark.sql.session.SparkSession at 0x1417f756af0>"
      ]
     },
     "execution_count": 4,
     "metadata": {},
     "output_type": "execute_result"
    }
   ],
   "source": [
    "spark"
   ]
  },
  {
   "cell_type": "code",
   "execution_count": 5,
   "id": "e17e775e",
   "metadata": {},
   "outputs": [],
   "source": [
    "spark.conf.set(\"spark.sql.adpative.enabled\", \"false\")\n",
    "spark.conf.set(\"spark.sql.optimized.dynamicPartitionPruning.enabled\", \"true\")\n",
    "spark.conf.set(\"spark.sql.autoBroadcastJoinThreshold\", -1)"
   ]
  },
  {
   "cell_type": "code",
   "execution_count": 6,
   "id": "1c15bc71",
   "metadata": {},
   "outputs": [],
   "source": [
    "df = spark.read.format('csv')\\\n",
    "        .option('inferSchema', True)\\\n",
    "        .option('header', True)\\\n",
    "        .load('BigMart Sales.csv')"
   ]
  },
  {
   "cell_type": "code",
   "execution_count": 7,
   "id": "a35e0477",
   "metadata": {},
   "outputs": [
    {
     "name": "stdout",
     "output_type": "stream",
     "text": [
      "+---------------+-----------+----------------+---------------+--------------------+--------+-----------------+-------------------------+-----------+--------------------+-----------------+-----------------+\n",
      "|Item_Identifier|Item_Weight|Item_Fat_Content|Item_Visibility|           Item_Type|Item_MRP|Outlet_Identifier|Outlet_Establishment_Year|Outlet_Size|Outlet_Location_Type|      Outlet_Type|Item_Outlet_Sales|\n",
      "+---------------+-----------+----------------+---------------+--------------------+--------+-----------------+-------------------------+-----------+--------------------+-----------------+-----------------+\n",
      "|          FDA15|        9.3|         Low Fat|    0.016047301|               Dairy|249.8092|           OUT049|                     1999|     Medium|              Tier 1|Supermarket Type1|         3735.138|\n",
      "|          DRC01|       5.92|         Regular|    0.019278216|         Soft Drinks| 48.2692|           OUT018|                     2009|     Medium|              Tier 3|Supermarket Type2|         443.4228|\n",
      "|          FDN15|       17.5|         Low Fat|    0.016760075|                Meat| 141.618|           OUT049|                     1999|     Medium|              Tier 1|Supermarket Type1|          2097.27|\n",
      "|          FDX07|       19.2|         Regular|            0.0|Fruits and Vegeta...| 182.095|           OUT010|                     1998|       null|              Tier 3|    Grocery Store|           732.38|\n",
      "|          NCD19|       8.93|         Low Fat|            0.0|           Household| 53.8614|           OUT013|                     1987|       High|              Tier 3|Supermarket Type1|         994.7052|\n",
      "|          FDP36|     10.395|         Regular|            0.0|        Baking Goods| 51.4008|           OUT018|                     2009|     Medium|              Tier 3|Supermarket Type2|         556.6088|\n",
      "|          FDO10|      13.65|         Regular|    0.012741089|         Snack Foods| 57.6588|           OUT013|                     1987|       High|              Tier 3|Supermarket Type1|         343.5528|\n",
      "+---------------+-----------+----------------+---------------+--------------------+--------+-----------------+-------------------------+-----------+--------------------+-----------------+-----------------+\n",
      "only showing top 7 rows\n",
      "\n"
     ]
    }
   ],
   "source": [
    "df.show(7)"
   ]
  },
  {
   "cell_type": "code",
   "execution_count": 8,
   "id": "6dca1087",
   "metadata": {},
   "outputs": [],
   "source": [
    "from pyspark.sql.functions import *"
   ]
  },
  {
   "cell_type": "code",
   "execution_count": 15,
   "id": "bbe768ee",
   "metadata": {},
   "outputs": [],
   "source": [
    "df.write.format(\"parquet\")\\\n",
    "    .mode(\"append\")\\\n",
    "    .partitionBy(\"Item_Identifier\")\\\n",
    "    .save(\"dpp_partitioned\")"
   ]
  },
  {
   "cell_type": "markdown",
   "id": "bd008d8b",
   "metadata": {},
   "source": [
    "#### Non Partitioned Data"
   ]
  },
  {
   "cell_type": "code",
   "execution_count": 10,
   "id": "72d409bf",
   "metadata": {},
   "outputs": [],
   "source": [
    "df.write.format(\"parquet\")\\\n",
    "    .mode(\"append\")\\\n",
    "    .save(\"dpp_nonpartitioned\")"
   ]
  },
  {
   "cell_type": "markdown",
   "id": "a26db030",
   "metadata": {},
   "source": [
    "#### Dataframes"
   ]
  },
  {
   "cell_type": "code",
   "execution_count": 11,
   "id": "c7368350",
   "metadata": {},
   "outputs": [],
   "source": [
    "df1 = spark.read.format(\"parquet\")\\\n",
    "    .load(\"dpp_partitioned\")"
   ]
  },
  {
   "cell_type": "code",
   "execution_count": 12,
   "id": "ce13f162",
   "metadata": {},
   "outputs": [],
   "source": [
    "df2 = spark.read.format(\"parquet\")\\\n",
    "    .load(\"dpp_nonpartitioned\")"
   ]
  },
  {
   "cell_type": "markdown",
   "id": "2a7a146d",
   "metadata": {},
   "source": [
    "#### Joins"
   ]
  },
  {
   "cell_type": "code",
   "execution_count": 13,
   "id": "a92c922c",
   "metadata": {},
   "outputs": [],
   "source": [
    "df_join = df1.join(df2.filter(col(\"Outlet_Type\") == 'Grocery Store'), df2['Item_Identifier'] == df2['Item_Identifier'], \"inner\")"
   ]
  },
  {
   "cell_type": "code",
   "execution_count": 14,
   "id": "59d1cea3",
   "metadata": {},
   "outputs": [
    {
     "name": "stdout",
     "output_type": "stream",
     "text": [
      "+---------------+-----------+----------------+---------------+---------+--------+-----------------+-------------------------+-----------+--------------------+-----------------+-----------------+---------------+-----------+----------------+---------------+--------------------+--------+-----------------+-------------------------+-----------+--------------------+-------------+-----------------+\n",
      "|Item_Identifier|Item_Weight|Item_Fat_Content|Item_Visibility|Item_Type|Item_MRP|Outlet_Identifier|Outlet_Establishment_Year|Outlet_Size|Outlet_Location_Type|Item_Outlet_Sales|      Outlet_Type|Item_Identifier|Item_Weight|Item_Fat_Content|Item_Visibility|           Item_Type|Item_MRP|Outlet_Identifier|Outlet_Establishment_Year|Outlet_Size|Outlet_Location_Type|  Outlet_Type|Item_Outlet_Sales|\n",
      "+---------------+-----------+----------------+---------------+---------+--------+-----------------+-------------------------+-----------+--------------------+-----------------+-----------------+---------------+-----------+----------------+---------------+--------------------+--------+-----------------+-------------------------+-----------+--------------------+-------------+-----------------+\n",
      "|          FDA15|        9.3|         Low Fat|    0.016047301|    Dairy|249.8092|           OUT049|                     1999|     Medium|              Tier 1|         3735.138|Supermarket Type1|          FDX07|       19.2|         Regular|            0.0|Fruits and Vegeta...| 182.095|           OUT010|                     1998|       null|              Tier 3|Grocery Store|           732.38|\n",
      "|          FDA15|        9.3|         Low Fat|    0.016047301|    Dairy|249.8092|           OUT049|                     1999|     Medium|              Tier 1|         3735.138|Supermarket Type1|          FDC37|       null|         Low Fat|    0.057556998|        Baking Goods|107.6938|           OUT019|                     1985|      Small|              Tier 1|Grocery Store|         214.3876|\n",
      "|          FDA15|        9.3|         Low Fat|    0.016047301|    Dairy|249.8092|           OUT049|                     1999|     Medium|              Tier 1|         3735.138|Supermarket Type1|          FDE51|      5.925|         Regular|    0.161466534|               Dairy| 45.5086|           OUT010|                     1998|       null|              Tier 3|Grocery Store|         178.4344|\n",
      "|          FDA15|        9.3|         Low Fat|    0.016047301|    Dairy|249.8092|           OUT049|                     1999|     Medium|              Tier 1|         3735.138|Supermarket Type1|          FDC14|       null|         Regular|    0.072221801|              Canned| 43.6454|           OUT019|                     1985|      Small|              Tier 1|Grocery Store|         125.8362|\n",
      "|          FDA15|        9.3|         Low Fat|    0.016047301|    Dairy|249.8092|           OUT049|                     1999|     Medium|              Tier 1|         3735.138|Supermarket Type1|          FDV38|      19.25|         Low Fat|    0.170348551|               Dairy| 55.7956|           OUT010|                     1998|       null|              Tier 3|Grocery Store|         163.7868|\n",
      "|          FDA15|        9.3|         Low Fat|    0.016047301|    Dairy|249.8092|           OUT049|                     1999|     Medium|              Tier 1|         3735.138|Supermarket Type1|          FDM39|       6.42|              LF|    0.089498926|               Dairy|178.1002|           OUT010|                     1998|       null|              Tier 3|Grocery Store|         358.2004|\n",
      "|          FDA15|        9.3|         Low Fat|    0.016047301|    Dairy|249.8092|           OUT049|                     1999|     Medium|              Tier 1|         3735.138|Supermarket Type1|          FDS02|       null|         Regular|    0.255394896|               Dairy|196.8794|           OUT019|                     1985|      Small|              Tier 1|Grocery Store|         780.3176|\n",
      "|          FDA15|        9.3|         Low Fat|    0.016047301|    Dairy|249.8092|           OUT049|                     1999|     Medium|              Tier 1|         3735.138|Supermarket Type1|          FDI26|       null|         Low Fat|    0.061082177|              Canned|180.0344|           OUT019|                     1985|      Small|              Tier 1|Grocery Store|          892.172|\n",
      "|          FDA15|        9.3|         Low Fat|    0.016047301|    Dairy|249.8092|           OUT049|                     1999|     Medium|              Tier 1|         3735.138|Supermarket Type1|          FDY40|       null|         Regular|     0.15028599|        Frozen Foods| 51.0692|           OUT019|                     1985|      Small|              Tier 1|Grocery Store|         147.8076|\n",
      "|          FDA15|        9.3|         Low Fat|    0.016047301|    Dairy|249.8092|           OUT049|                     1999|     Medium|              Tier 1|         3735.138|Supermarket Type1|          FDC46|       17.7|              LF|    0.195068226|         Snack Foods|185.4266|           OUT010|                     1998|       null|              Tier 3|Grocery Store|         184.4266|\n",
      "|          FDA15|        9.3|         Low Fat|    0.016047301|    Dairy|249.8092|           OUT049|                     1999|     Medium|              Tier 1|         3735.138|Supermarket Type1|          FDN48|       null|         Low Fat|    0.113720344|        Baking Goods| 89.9804|           OUT019|                     1985|      Small|              Tier 1|Grocery Store|         643.1628|\n",
      "|          FDA15|        9.3|         Low Fat|    0.016047301|    Dairy|249.8092|           OUT049|                     1999|     Medium|              Tier 1|         3735.138|Supermarket Type1|          NCL18|       null|         Low Fat|    0.293417759|           Household|194.6136|           OUT019|                     1985|      Small|              Tier 1|Grocery Store|         583.2408|\n",
      "|          FDA15|        9.3|         Low Fat|    0.016047301|    Dairy|249.8092|           OUT049|                     1999|     Medium|              Tier 1|         3735.138|Supermarket Type1|          FDW20|      20.75|         Low Fat|    0.040421193|Fruits and Vegeta...| 122.173|           OUT010|                     1998|       null|              Tier 3|Grocery Store|          369.519|\n",
      "|          FDA15|        9.3|         Low Fat|    0.016047301|    Dairy|249.8092|           OUT049|                     1999|     Medium|              Tier 1|         3735.138|Supermarket Type1|          FDU04|       null|         Low Fat|    0.009714595|        Frozen Foods|120.0414|           OUT019|                     1985|      Small|              Tier 1|Grocery Store|         487.3656|\n",
      "|          FDA15|        9.3|         Low Fat|    0.016047301|    Dairy|249.8092|           OUT049|                     1999|     Medium|              Tier 1|         3735.138|Supermarket Type1|          DRE60|       null|         low fat|    0.278974075|         Soft Drinks| 225.372|           OUT019|                     1985|      Small|              Tier 1|Grocery Store|          679.116|\n",
      "|          FDA15|        9.3|         Low Fat|    0.016047301|    Dairy|249.8092|           OUT049|                     1999|     Medium|              Tier 1|         3735.138|Supermarket Type1|          FDW39|       null|         Regular|    0.064625342|                Meat| 176.937|           OUT019|                     1985|      Small|              Tier 1|Grocery Store|          176.437|\n",
      "|          FDA15|        9.3|         Low Fat|    0.016047301|    Dairy|249.8092|           OUT049|                     1999|     Medium|              Tier 1|         3735.138|Supermarket Type1|          FDB14|      20.25|         Regular|    0.171938781|              Canned|  92.512|           OUT010|                     1998|       null|              Tier 3|Grocery Store|          186.424|\n",
      "|          FDA15|        9.3|         Low Fat|    0.016047301|    Dairy|249.8092|           OUT049|                     1999|     Medium|              Tier 1|         3735.138|Supermarket Type1|          FDS52|       8.89|         Low Fat|    0.009163216|        Frozen Foods|101.7016|           OUT010|                     1998|       null|              Tier 3|Grocery Store|         101.2016|\n",
      "|          FDA15|        9.3|         Low Fat|    0.016047301|    Dairy|249.8092|           OUT049|                     1999|     Medium|              Tier 1|         3735.138|Supermarket Type1|          NCN07|       18.5|         Low Fat|    0.056816465|              Others|132.1284|           OUT010|                     1998|       null|              Tier 3|Grocery Store|         263.6568|\n",
      "|          FDA15|        9.3|         Low Fat|    0.016047301|    Dairy|249.8092|           OUT049|                     1999|     Medium|              Tier 1|         3735.138|Supermarket Type1|          FDI32|       17.7|         Low Fat|    0.291865402|Fruits and Vegeta...|115.1834|           OUT010|                     1998|       null|              Tier 3|Grocery Store|         345.5502|\n",
      "+---------------+-----------+----------------+---------------+---------+--------+-----------------+-------------------------+-----------+--------------------+-----------------+-----------------+---------------+-----------+----------------+---------------+--------------------+--------+-----------------+-------------------------+-----------+--------------------+-------------+-----------------+\n",
      "only showing top 20 rows\n",
      "\n"
     ]
    }
   ],
   "source": [
    "df_join.show()"
   ]
  },
  {
   "cell_type": "code",
   "execution_count": null,
   "id": "6e7af9ef",
   "metadata": {},
   "outputs": [],
   "source": []
  }
 ],
 "metadata": {
  "kernelspec": {
   "display_name": "Python 3",
   "language": "python",
   "name": "python3"
  },
  "language_info": {
   "codemirror_mode": {
    "name": "ipython",
    "version": 3
   },
   "file_extension": ".py",
   "mimetype": "text/x-python",
   "name": "python",
   "nbconvert_exporter": "python",
   "pygments_lexer": "ipython3",
   "version": "3.9.0"
  }
 },
 "nbformat": 4,
 "nbformat_minor": 5
}
