{
 "cells": [
  {
   "cell_type": "code",
   "execution_count": 1,
   "id": "d3b67911",
   "metadata": {},
   "outputs": [],
   "source": [
    "import findspark\n",
    "findspark.init()"
   ]
  },
  {
   "cell_type": "code",
   "execution_count": 2,
   "id": "c0955da7",
   "metadata": {},
   "outputs": [],
   "source": [
    "from pyspark.sql import SparkSession"
   ]
  },
  {
   "cell_type": "code",
   "execution_count": 3,
   "id": "145f31e4",
   "metadata": {},
   "outputs": [],
   "source": [
    "spark = SparkSession.builder.getOrCreate()"
   ]
  },
  {
   "cell_type": "code",
   "execution_count": 4,
   "id": "96afbd1d",
   "metadata": {},
   "outputs": [
    {
     "data": {
      "text/html": [
       "\n",
       "            <div>\n",
       "                <p><b>SparkSession - in-memory</b></p>\n",
       "                \n",
       "        <div>\n",
       "            <p><b>SparkContext</b></p>\n",
       "\n",
       "            <p><a href=\"http://host.docker.internal:4041\">Spark UI</a></p>\n",
       "\n",
       "            <dl>\n",
       "              <dt>Version</dt>\n",
       "                <dd><code>v3.2.1</code></dd>\n",
       "              <dt>Master</dt>\n",
       "                <dd><code>local[*]</code></dd>\n",
       "              <dt>AppName</dt>\n",
       "                <dd><code>pyspark-shell</code></dd>\n",
       "            </dl>\n",
       "        </div>\n",
       "        \n",
       "            </div>\n",
       "        "
      ],
      "text/plain": [
       "<pyspark.sql.session.SparkSession at 0x1f47f496ac0>"
      ]
     },
     "execution_count": 4,
     "metadata": {},
     "output_type": "execute_result"
    }
   ],
   "source": [
    "spark"
   ]
  },
  {
   "cell_type": "code",
   "execution_count": 7,
   "id": "a10e89c5",
   "metadata": {},
   "outputs": [],
   "source": [
    "from pyspark.sql.functions import *"
   ]
  },
  {
   "cell_type": "markdown",
   "id": "4979cfcd",
   "metadata": {},
   "source": [
    "#### Creating a Dataframe"
   ]
  },
  {
   "cell_type": "code",
   "execution_count": 5,
   "id": "e007982e",
   "metadata": {},
   "outputs": [],
   "source": [
    "data = [(\"A\", 100), (\"A\", 200), (\"A\", 300), (\"B\", 400), (\"C\", 500)]\n",
    "df = spark.createDataFrame(data, [\"user_id\", \"purchase\"])"
   ]
  },
  {
   "cell_type": "code",
   "execution_count": 6,
   "id": "06a147a7",
   "metadata": {},
   "outputs": [
    {
     "name": "stdout",
     "output_type": "stream",
     "text": [
      "+-------+--------+\n",
      "|user_id|purchase|\n",
      "+-------+--------+\n",
      "|      A|     100|\n",
      "|      A|     200|\n",
      "|      A|     300|\n",
      "|      B|     400|\n",
      "|      C|     500|\n",
      "+-------+--------+\n",
      "\n"
     ]
    }
   ],
   "source": [
    "df.show()"
   ]
  },
  {
   "cell_type": "markdown",
   "id": "d427a3d1",
   "metadata": {},
   "source": [
    "#### Salt Column"
   ]
  },
  {
   "cell_type": "code",
   "execution_count": 8,
   "id": "ae05ded8",
   "metadata": {},
   "outputs": [],
   "source": [
    "df = df.withColumn(\"salt_column\", floor(rand()*3))"
   ]
  },
  {
   "cell_type": "code",
   "execution_count": 9,
   "id": "c7de0adc",
   "metadata": {},
   "outputs": [
    {
     "name": "stdout",
     "output_type": "stream",
     "text": [
      "+-------+--------+-----------+\n",
      "|user_id|purchase|salt_column|\n",
      "+-------+--------+-----------+\n",
      "|      A|     100|          0|\n",
      "|      A|     200|          1|\n",
      "|      A|     300|          0|\n",
      "|      B|     400|          0|\n",
      "|      C|     500|          0|\n",
      "+-------+--------+-----------+\n",
      "\n"
     ]
    }
   ],
   "source": [
    "df.show()"
   ]
  },
  {
   "cell_type": "markdown",
   "id": "175a7f2b",
   "metadata": {},
   "source": [
    "#### Creating Concata column on original groupBy col and salt_column to create a new groupBy col"
   ]
  },
  {
   "cell_type": "code",
   "execution_count": 15,
   "id": "12c7da47",
   "metadata": {},
   "outputs": [],
   "source": [
    "df = df.withColumn(\"user_id_salt\", concat(col(\"user_id\"), lit(\"-\"), col(\"salt_column\")))"
   ]
  },
  {
   "cell_type": "code",
   "execution_count": 21,
   "id": "e5540b00",
   "metadata": {},
   "outputs": [
    {
     "name": "stdout",
     "output_type": "stream",
     "text": [
      "+-------+--------+-----------+------------+\n",
      "|user_id|purchase|salt_column|user_id_salt|\n",
      "+-------+--------+-----------+------------+\n",
      "|      A|     100|          0|         A-0|\n",
      "|      A|     200|          1|         A-1|\n",
      "|      A|     300|          0|         A-0|\n",
      "|      B|     400|          0|         B-0|\n",
      "|      C|     500|          0|         C-0|\n",
      "+-------+--------+-----------+------------+\n",
      "\n"
     ]
    }
   ],
   "source": [
    "df.show()"
   ]
  },
  {
   "cell_type": "markdown",
   "id": "88e749ea",
   "metadata": {},
   "source": [
    "#### Applying Group By on this new col"
   ]
  },
  {
   "cell_type": "code",
   "execution_count": 22,
   "id": "513abb06",
   "metadata": {},
   "outputs": [],
   "source": [
    "df = df.groupBy(\"user_id_salt\").agg(sum(\"purchase\"))"
   ]
  },
  {
   "cell_type": "code",
   "execution_count": 23,
   "id": "4236b748",
   "metadata": {},
   "outputs": [
    {
     "name": "stdout",
     "output_type": "stream",
     "text": [
      "+------------+-------------+\n",
      "|user_id_salt|sum(purchase)|\n",
      "+------------+-------------+\n",
      "|         A-0|          400|\n",
      "|         A-1|          200|\n",
      "|         B-0|          400|\n",
      "|         C-0|          500|\n",
      "+------------+-------------+\n",
      "\n"
     ]
    }
   ],
   "source": [
    "df.show()"
   ]
  },
  {
   "cell_type": "code",
   "execution_count": null,
   "id": "c8eb8b36",
   "metadata": {},
   "outputs": [],
   "source": []
  }
 ],
 "metadata": {
  "kernelspec": {
   "display_name": "Python 3",
   "language": "python",
   "name": "python3"
  },
  "language_info": {
   "codemirror_mode": {
    "name": "ipython",
    "version": 3
   },
   "file_extension": ".py",
   "mimetype": "text/x-python",
   "name": "python",
   "nbconvert_exporter": "python",
   "pygments_lexer": "ipython3",
   "version": "3.9.0"
  }
 },
 "nbformat": 4,
 "nbformat_minor": 5
}
